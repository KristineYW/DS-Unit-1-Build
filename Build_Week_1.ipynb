{
  "nbformat": 4,
  "nbformat_minor": 0,
  "metadata": {
    "colab": {
      "name": "Build Week 1.ipynb",
      "provenance": [],
      "authorship_tag": "ABX9TyO3aZGGGoDGlkG/2DrQPgVM",
      "include_colab_link": true
    },
    "kernelspec": {
      "name": "python3",
      "display_name": "Python 3"
    }
  },
  "cells": [
    {
      "cell_type": "markdown",
      "metadata": {
        "id": "view-in-github",
        "colab_type": "text"
      },
      "source": [
        "<a href=\"https://colab.research.google.com/github/KristineYW/Unit-1-Build/blob/master/Build_Week_1.ipynb\" target=\"_parent\"><img src=\"https://colab.research.google.com/assets/colab-badge.svg\" alt=\"Open In Colab\"/></a>"
      ]
    },
    {
      "cell_type": "code",
      "metadata": {
        "id": "96EDbWHG46gq",
        "colab_type": "code",
        "colab": {}
      },
      "source": [
        "# Import libraries\n",
        "\n",
        "import pandas as pd\n",
        "import numpy as np\n",
        "import matplotlib.pyplot as plt\n",
        "import math"
      ],
      "execution_count": 0,
      "outputs": []
    },
    {
      "cell_type": "code",
      "metadata": {
        "id": "cqVm2p2l757V",
        "colab_type": "code",
        "colab": {
          "base_uri": "https://localhost:8080/",
          "height": 204
        },
        "outputId": "d2c3cc50-0911-4745-b453-944949ae378d"
      },
      "source": [
        "top_5 = pd.read_csv('https://raw.githubusercontent.com/KristineYW/Unit-1-Build/master/NCHS_-_Top_Five_Leading_Causes_of_Death__United_States__1990__1950__2000.csv')\n",
        "\n",
        "top_5.head()"
      ],
      "execution_count": 30,
      "outputs": [
        {
          "output_type": "execute_result",
          "data": {
            "text/html": [
              "<div>\n",
              "<style scoped>\n",
              "    .dataframe tbody tr th:only-of-type {\n",
              "        vertical-align: middle;\n",
              "    }\n",
              "\n",
              "    .dataframe tbody tr th {\n",
              "        vertical-align: top;\n",
              "    }\n",
              "\n",
              "    .dataframe thead th {\n",
              "        text-align: right;\n",
              "    }\n",
              "</style>\n",
              "<table border=\"1\" class=\"dataframe\">\n",
              "  <thead>\n",
              "    <tr style=\"text-align: right;\">\n",
              "      <th></th>\n",
              "      <th>Year</th>\n",
              "      <th>Cause</th>\n",
              "      <th>Number of Deaths</th>\n",
              "    </tr>\n",
              "  </thead>\n",
              "  <tbody>\n",
              "    <tr>\n",
              "      <th>0</th>\n",
              "      <td>1900</td>\n",
              "      <td>Influenza and Pneumonia</td>\n",
              "      <td>40,362</td>\n",
              "    </tr>\n",
              "    <tr>\n",
              "      <th>1</th>\n",
              "      <td>1900</td>\n",
              "      <td>Tuberculosis</td>\n",
              "      <td>38,820</td>\n",
              "    </tr>\n",
              "    <tr>\n",
              "      <th>2</th>\n",
              "      <td>1900</td>\n",
              "      <td>Diarrhea/Enteritis/Ulcerative Colitis</td>\n",
              "      <td>28,491</td>\n",
              "    </tr>\n",
              "    <tr>\n",
              "      <th>3</th>\n",
              "      <td>1900</td>\n",
              "      <td>Heart Disease</td>\n",
              "      <td>27,427</td>\n",
              "    </tr>\n",
              "    <tr>\n",
              "      <th>4</th>\n",
              "      <td>1900</td>\n",
              "      <td>Stroke</td>\n",
              "      <td>21,353</td>\n",
              "    </tr>\n",
              "  </tbody>\n",
              "</table>\n",
              "</div>"
            ],
            "text/plain": [
              "   Year                                  Cause Number of Deaths\n",
              "0  1900                Influenza and Pneumonia           40,362\n",
              "1  1900                           Tuberculosis           38,820\n",
              "2  1900  Diarrhea/Enteritis/Ulcerative Colitis           28,491\n",
              "3  1900                          Heart Disease           27,427\n",
              "4  1900                                 Stroke           21,353"
            ]
          },
          "metadata": {
            "tags": []
          },
          "execution_count": 30
        }
      ]
    },
    {
      "cell_type": "code",
      "metadata": {
        "id": "cnev_PxrACRl",
        "colab_type": "code",
        "colab": {
          "base_uri": "https://localhost:8080/",
          "height": 204
        },
        "outputId": "b2480e87-167b-430a-9a9f-4805844fa0f3"
      },
      "source": [
        "ch_mort = pd.read_csv('https://raw.githubusercontent.com/KristineYW/Unit-1-Build/master/NCHS_-_Childhood_Mortality_Rates.csv')\n",
        "\n",
        "ch_mort.head()"
      ],
      "execution_count": 28,
      "outputs": [
        {
          "output_type": "execute_result",
          "data": {
            "text/html": [
              "<div>\n",
              "<style scoped>\n",
              "    .dataframe tbody tr th:only-of-type {\n",
              "        vertical-align: middle;\n",
              "    }\n",
              "\n",
              "    .dataframe tbody tr th {\n",
              "        vertical-align: top;\n",
              "    }\n",
              "\n",
              "    .dataframe thead th {\n",
              "        text-align: right;\n",
              "    }\n",
              "</style>\n",
              "<table border=\"1\" class=\"dataframe\">\n",
              "  <thead>\n",
              "    <tr style=\"text-align: right;\">\n",
              "      <th></th>\n",
              "      <th>Year</th>\n",
              "      <th>Age Group</th>\n",
              "      <th>Death Rate</th>\n",
              "    </tr>\n",
              "  </thead>\n",
              "  <tbody>\n",
              "    <tr>\n",
              "      <th>0</th>\n",
              "      <td>1900</td>\n",
              "      <td>1-4 Years</td>\n",
              "      <td>1,983.8</td>\n",
              "    </tr>\n",
              "    <tr>\n",
              "      <th>1</th>\n",
              "      <td>1901</td>\n",
              "      <td>1-4 Years</td>\n",
              "      <td>1,695.0</td>\n",
              "    </tr>\n",
              "    <tr>\n",
              "      <th>2</th>\n",
              "      <td>1902</td>\n",
              "      <td>1-4 Years</td>\n",
              "      <td>1,655.7</td>\n",
              "    </tr>\n",
              "    <tr>\n",
              "      <th>3</th>\n",
              "      <td>1903</td>\n",
              "      <td>1-4 Years</td>\n",
              "      <td>1,542.1</td>\n",
              "    </tr>\n",
              "    <tr>\n",
              "      <th>4</th>\n",
              "      <td>1904</td>\n",
              "      <td>1-4 Years</td>\n",
              "      <td>1,591.5</td>\n",
              "    </tr>\n",
              "  </tbody>\n",
              "</table>\n",
              "</div>"
            ],
            "text/plain": [
              "   Year  Age Group Death Rate\n",
              "0  1900  1-4 Years    1,983.8\n",
              "1  1901  1-4 Years    1,695.0\n",
              "2  1902  1-4 Years    1,655.7\n",
              "3  1903  1-4 Years    1,542.1\n",
              "4  1904  1-4 Years    1,591.5"
            ]
          },
          "metadata": {
            "tags": []
          },
          "execution_count": 28
        }
      ]
    },
    {
      "cell_type": "code",
      "metadata": {
        "id": "vahU_bJWAMIE",
        "colab_type": "code",
        "colab": {
          "base_uri": "https://localhost:8080/",
          "height": 204
        },
        "outputId": "818228e2-bc9a-4068-fe2d-6c18c34a4186"
      },
      "source": [
        "dr_le = pd.read_csv('https://raw.githubusercontent.com/KristineYW/Unit-1-Build/master/NCHS_-_Death_rates_and_life_expectancy_at_birth.csv')\n",
        "\n",
        "dr_le.head()"
      ],
      "execution_count": 29,
      "outputs": [
        {
          "output_type": "execute_result",
          "data": {
            "text/html": [
              "<div>\n",
              "<style scoped>\n",
              "    .dataframe tbody tr th:only-of-type {\n",
              "        vertical-align: middle;\n",
              "    }\n",
              "\n",
              "    .dataframe tbody tr th {\n",
              "        vertical-align: top;\n",
              "    }\n",
              "\n",
              "    .dataframe thead th {\n",
              "        text-align: right;\n",
              "    }\n",
              "</style>\n",
              "<table border=\"1\" class=\"dataframe\">\n",
              "  <thead>\n",
              "    <tr style=\"text-align: right;\">\n",
              "      <th></th>\n",
              "      <th>Year</th>\n",
              "      <th>Race</th>\n",
              "      <th>Sex</th>\n",
              "      <th>Average Life Expectancy (Years)</th>\n",
              "      <th>Age-adjusted Death Rate</th>\n",
              "    </tr>\n",
              "  </thead>\n",
              "  <tbody>\n",
              "    <tr>\n",
              "      <th>0</th>\n",
              "      <td>1900</td>\n",
              "      <td>All Races</td>\n",
              "      <td>Both Sexes</td>\n",
              "      <td>47.3</td>\n",
              "      <td>2,518.0</td>\n",
              "    </tr>\n",
              "    <tr>\n",
              "      <th>1</th>\n",
              "      <td>1901</td>\n",
              "      <td>All Races</td>\n",
              "      <td>Both Sexes</td>\n",
              "      <td>49.1</td>\n",
              "      <td>2,473.1</td>\n",
              "    </tr>\n",
              "    <tr>\n",
              "      <th>2</th>\n",
              "      <td>1902</td>\n",
              "      <td>All Races</td>\n",
              "      <td>Both Sexes</td>\n",
              "      <td>51.5</td>\n",
              "      <td>2,301.3</td>\n",
              "    </tr>\n",
              "    <tr>\n",
              "      <th>3</th>\n",
              "      <td>1903</td>\n",
              "      <td>All Races</td>\n",
              "      <td>Both Sexes</td>\n",
              "      <td>50.5</td>\n",
              "      <td>2,379.0</td>\n",
              "    </tr>\n",
              "    <tr>\n",
              "      <th>4</th>\n",
              "      <td>1904</td>\n",
              "      <td>All Races</td>\n",
              "      <td>Both Sexes</td>\n",
              "      <td>47.6</td>\n",
              "      <td>2,502.5</td>\n",
              "    </tr>\n",
              "  </tbody>\n",
              "</table>\n",
              "</div>"
            ],
            "text/plain": [
              "   Year       Race  ... Average Life Expectancy (Years)  Age-adjusted Death Rate\n",
              "0  1900  All Races  ...                            47.3                  2,518.0\n",
              "1  1901  All Races  ...                            49.1                  2,473.1\n",
              "2  1902  All Races  ...                            51.5                  2,301.3\n",
              "3  1903  All Races  ...                            50.5                  2,379.0\n",
              "4  1904  All Races  ...                            47.6                  2,502.5\n",
              "\n",
              "[5 rows x 5 columns]"
            ]
          },
          "metadata": {
            "tags": []
          },
          "execution_count": 29
        }
      ]
    },
    {
      "cell_type": "code",
      "metadata": {
        "id": "gwJ7u33lAeYz",
        "colab_type": "code",
        "colab": {
          "base_uri": "https://localhost:8080/",
          "height": 204
        },
        "outputId": "0fb4c43b-21a6-4f8a-80d7-64216cd89212"
      },
      "source": [
        "age_adj = pd.read_csv('https://raw.githubusercontent.com/KristineYW/Unit-1-Build/master/NCHS_-_Age-adjusted_Death_Rates_for_Selected_Major_Causes_of_Death.csv')\n",
        "\n",
        "age_adj.head()"
      ],
      "execution_count": 31,
      "outputs": [
        {
          "output_type": "execute_result",
          "data": {
            "text/html": [
              "<div>\n",
              "<style scoped>\n",
              "    .dataframe tbody tr th:only-of-type {\n",
              "        vertical-align: middle;\n",
              "    }\n",
              "\n",
              "    .dataframe tbody tr th {\n",
              "        vertical-align: top;\n",
              "    }\n",
              "\n",
              "    .dataframe thead th {\n",
              "        text-align: right;\n",
              "    }\n",
              "</style>\n",
              "<table border=\"1\" class=\"dataframe\">\n",
              "  <thead>\n",
              "    <tr style=\"text-align: right;\">\n",
              "      <th></th>\n",
              "      <th>Year</th>\n",
              "      <th>Cause</th>\n",
              "      <th>Age Adjusted Death Rate</th>\n",
              "    </tr>\n",
              "  </thead>\n",
              "  <tbody>\n",
              "    <tr>\n",
              "      <th>0</th>\n",
              "      <td>1900</td>\n",
              "      <td>Heart Disease</td>\n",
              "      <td>265.4</td>\n",
              "    </tr>\n",
              "    <tr>\n",
              "      <th>1</th>\n",
              "      <td>1901</td>\n",
              "      <td>Heart Disease</td>\n",
              "      <td>272.6</td>\n",
              "    </tr>\n",
              "    <tr>\n",
              "      <th>2</th>\n",
              "      <td>1902</td>\n",
              "      <td>Heart Disease</td>\n",
              "      <td>285.2</td>\n",
              "    </tr>\n",
              "    <tr>\n",
              "      <th>3</th>\n",
              "      <td>1903</td>\n",
              "      <td>Heart Disease</td>\n",
              "      <td>304.5</td>\n",
              "    </tr>\n",
              "    <tr>\n",
              "      <th>4</th>\n",
              "      <td>1904</td>\n",
              "      <td>Heart Disease</td>\n",
              "      <td>331.5</td>\n",
              "    </tr>\n",
              "  </tbody>\n",
              "</table>\n",
              "</div>"
            ],
            "text/plain": [
              "   Year          Cause Age Adjusted Death Rate\n",
              "0  1900  Heart Disease                   265.4\n",
              "1  1901  Heart Disease                   272.6\n",
              "2  1902  Heart Disease                   285.2\n",
              "3  1903  Heart Disease                   304.5\n",
              "4  1904  Heart Disease                   331.5"
            ]
          },
          "metadata": {
            "tags": []
          },
          "execution_count": 31
        }
      ]
    },
    {
      "cell_type": "code",
      "metadata": {
        "id": "WQ0ATUQpAyf1",
        "colab_type": "code",
        "colab": {
          "base_uri": "https://localhost:8080/",
          "height": 204
        },
        "outputId": "d96a13de-93d7-4380-b3b1-bfd3bf059906"
      },
      "source": [
        "by_state = pd.read_csv('https://raw.githubusercontent.com/KristineYW/Unit-1-Build/master/NCHS_-_Leading_Causes_of_Death__United_States.csv')\n",
        "\n",
        "by_state.head()"
      ],
      "execution_count": 32,
      "outputs": [
        {
          "output_type": "execute_result",
          "data": {
            "text/html": [
              "<div>\n",
              "<style scoped>\n",
              "    .dataframe tbody tr th:only-of-type {\n",
              "        vertical-align: middle;\n",
              "    }\n",
              "\n",
              "    .dataframe tbody tr th {\n",
              "        vertical-align: top;\n",
              "    }\n",
              "\n",
              "    .dataframe thead th {\n",
              "        text-align: right;\n",
              "    }\n",
              "</style>\n",
              "<table border=\"1\" class=\"dataframe\">\n",
              "  <thead>\n",
              "    <tr style=\"text-align: right;\">\n",
              "      <th></th>\n",
              "      <th>Year</th>\n",
              "      <th>113 Cause Name</th>\n",
              "      <th>Cause Name</th>\n",
              "      <th>State</th>\n",
              "      <th>Deaths</th>\n",
              "      <th>Age-adjusted Death Rate</th>\n",
              "    </tr>\n",
              "  </thead>\n",
              "  <tbody>\n",
              "    <tr>\n",
              "      <th>0</th>\n",
              "      <td>2017</td>\n",
              "      <td>Accidents (unintentional injuries) (V01-X59,Y8...</td>\n",
              "      <td>Unintentional injuries</td>\n",
              "      <td>United States</td>\n",
              "      <td>169936</td>\n",
              "      <td>49.4</td>\n",
              "    </tr>\n",
              "    <tr>\n",
              "      <th>1</th>\n",
              "      <td>2017</td>\n",
              "      <td>Accidents (unintentional injuries) (V01-X59,Y8...</td>\n",
              "      <td>Unintentional injuries</td>\n",
              "      <td>Alabama</td>\n",
              "      <td>2703</td>\n",
              "      <td>53.8</td>\n",
              "    </tr>\n",
              "    <tr>\n",
              "      <th>2</th>\n",
              "      <td>2017</td>\n",
              "      <td>Accidents (unintentional injuries) (V01-X59,Y8...</td>\n",
              "      <td>Unintentional injuries</td>\n",
              "      <td>Alaska</td>\n",
              "      <td>436</td>\n",
              "      <td>63.7</td>\n",
              "    </tr>\n",
              "    <tr>\n",
              "      <th>3</th>\n",
              "      <td>2017</td>\n",
              "      <td>Accidents (unintentional injuries) (V01-X59,Y8...</td>\n",
              "      <td>Unintentional injuries</td>\n",
              "      <td>Arizona</td>\n",
              "      <td>4184</td>\n",
              "      <td>56.2</td>\n",
              "    </tr>\n",
              "    <tr>\n",
              "      <th>4</th>\n",
              "      <td>2017</td>\n",
              "      <td>Accidents (unintentional injuries) (V01-X59,Y8...</td>\n",
              "      <td>Unintentional injuries</td>\n",
              "      <td>Arkansas</td>\n",
              "      <td>1625</td>\n",
              "      <td>51.8</td>\n",
              "    </tr>\n",
              "  </tbody>\n",
              "</table>\n",
              "</div>"
            ],
            "text/plain": [
              "   Year  ... Age-adjusted Death Rate\n",
              "0  2017  ...                    49.4\n",
              "1  2017  ...                    53.8\n",
              "2  2017  ...                    63.7\n",
              "3  2017  ...                    56.2\n",
              "4  2017  ...                    51.8\n",
              "\n",
              "[5 rows x 6 columns]"
            ]
          },
          "metadata": {
            "tags": []
          },
          "execution_count": 32
        }
      ]
    }
  ]
}